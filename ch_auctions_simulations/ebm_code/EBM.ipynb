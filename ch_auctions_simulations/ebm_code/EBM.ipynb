{
 "cells": [
  {
   "cell_type": "code",
   "execution_count": 13,
   "id": "0ba50358",
   "metadata": {},
   "outputs": [],
   "source": [
    "%matplotlib inline\n",
    "\n",
    "import itertools\n",
    "\n",
    "import numpy as np\n",
    "\n",
    "import matplotlib.pyplot as plt\n",
    "import matplotlib.gridspec as gridspec\n",
    "import mpl_toolkits\n",
    "\n",
    "# for exclusion region\n",
    "from shapely.geometry import Polygon\n",
    "import geopandas as gpd\n",
    "import matplotlib.patches as mpatches\n",
    "\n",
    "from auction import BelloniAuctionApproximation as Approximation\n",
    "from ebm import ExclusiveBuyerMechanismApproximation as EBM"
   ]
  },
  {
   "cell_type": "code",
   "execution_count": 2,
   "id": "0b2ef556",
   "metadata": {},
   "outputs": [],
   "source": [
    "# N = 1, J = 2\n",
    "N = 1\n",
    "X = [[0,1],[0,1]]\n",
    "J = len(X)\n",
    "c = [0,0]\n",
    "T = 20\n",
    "\n",
    "delta = (X[0][1] - X[0][0]) / T\n",
    "Xj_range = np.arange(X[0][0], X[0][1] + 1e-10, delta)\n",
    "\n",
    "def f(*x):\n",
    "    return 1"
   ]
  },
  {
   "cell_type": "code",
   "execution_count": 42,
   "id": "cc020891",
   "metadata": {},
   "outputs": [
    {
     "data": {
      "text/plain": [
       "(0.5773502691896257, 0.3849001794597505)"
      ]
     },
     "execution_count": 42,
     "metadata": {},
     "output_type": "execute_result"
    }
   ],
   "source": [
    "r = np.sqrt(1/3)\n",
    "r_opt = (1 - (r**2))*r\n",
    "r, r_opt"
   ]
  },
  {
   "cell_type": "code",
   "execution_count": 11,
   "id": "45e7eb38",
   "metadata": {},
   "outputs": [],
   "source": [
    "def allocation(x, y, p):\n",
    "    beta1 = x - p[0]\n",
    "    beta2 = y - p[1]\n",
    "    if np.isclose(beta1,beta2) and beta1 >= jk:\n",
    "        Q1 = Q2 = 1/2\n",
    "    else:\n",
    "        Q1 = int(beta1 > beta2) * int(beta1 >= 0 - 1e-10)\n",
    "        Q2 = int(beta2 > beta1) * int(beta2 >= 0 - 1e-10)\n",
    "    return Q1, Q2\n"
   ]
  },
  {
   "cell_type": "code",
   "execution_count": 12,
   "id": "a2cae52b",
   "metadata": {},
   "outputs": [],
   "source": [
    "# without numerical adjustment\n",
    "def revenue(X, J, N, p, f, Xj_range, delta):\n",
    "    total = 0\n",
    "    for ix, x in enumerate(Xj_range):\n",
    "        for iy, y in enumerate(Xj_range):\n",
    "        \n",
    "            Q1, Q2 = allocation(x, y, p)\n",
    "            \n",
    "            intQxs = []\n",
    "            Xj_subset_x = Xj_range[Xj_range <= x + 1e-10]\n",
    "            if len(Xj_subset_x) > 1:\n",
    "                endpoints_x = [0, len(Xj_subset_x)-1]\n",
    "                for ix2, x2 in enumerate(Xj_subset_x):\n",
    "                    Qx, _ = allocation(x2, y, p)\n",
    "                    if ix2 in endpoints_x:\n",
    "                        # 1/x\n",
    "                        # 2 1 1 1 2 \n",
    "                        Qx /= 2\n",
    "                    intQxs.append(Qx * delta)\n",
    "            intQx = np.sum(intQxs)\n",
    "            \n",
    "            intQys = []\n",
    "            Xj_subset_y = Xj_range[Xj_range <= y + 1e-10]\n",
    "            if len(Xj_subset_y) > 1:\n",
    "                endpoints_y = [0, len(Xj_subset_y)-1]\n",
    "                for iy2, y2 in enumerate(Xj_subset_y):\n",
    "                    _, Qy = allocation(x, y2, p)\n",
    "                    if iy2 in endpoints_y:\n",
    "                        # 1/x\n",
    "                        # 2 1 1 1 2 \n",
    "                        Qy /= 2\n",
    "                    intQys.append(Qy * delta)\n",
    "            intQy = np.sum(intQys)\n",
    "            \n",
    "            U = np.max([intQx, intQy])\n",
    "        \n",
    "            total += N * ((Q1 * x) + (Q2 * y) - U) * f(x, y) * np.power(delta, J) \n",
    "    return total"
   ]
  },
  {
   "cell_type": "code",
   "execution_count": 13,
   "id": "e63ee26d",
   "metadata": {},
   "outputs": [
    {
     "name": "stdout",
     "output_type": "stream",
     "text": [
      "-----\n",
      " T=1 1.0 1.75\n",
      "-----\n",
      " T=2 1.0 0.96875\n",
      "-----\n",
      " T=3 0.6666666666666666 0.7592592592592593\n",
      "-----\n",
      " T=4 0.75 0.6640625\n",
      "-----\n",
      " T=5 0.6000000000000001 0.6100000000000004\n",
      "-----\n",
      " T=6 0.6666666666666666 0.5752314814814814\n",
      "-----\n",
      " T=7 0.5714285714285714 0.5510204081632656\n",
      "-----\n",
      " T=8 0.625 0.533203125\n",
      "-----\n",
      " T=9 0.5555555555555556 0.5195473251028807\n",
      "-----\n",
      " T=10 0.6000000000000001 0.5087500000000004\n",
      "-----\n",
      " T=11 0.5454545454545454 0.49999999999999944\n",
      "-----\n",
      " T=12 0.5833333333333333 0.4927662037037035\n",
      "-----\n",
      " T=13 0.5384615384615385 0.48668639053254437\n",
      "-----\n",
      " T=14 0.5714285714285714 0.4815051020408158\n",
      "-----\n",
      " T=15 0.5333333333333333 0.47703703703703665\n",
      "-----\n",
      " T=16 0.5625 0.47314453125\n",
      "-----\n",
      " T=17 0.5294117647058824 0.46972318339100466\n",
      "-----\n",
      " T=18 0.5555555555555556 0.4666923868312741\n",
      "-----\n",
      " T=19 0.5263157894736842 0.4639889196675887\n",
      "-----\n",
      " T=20 0.55 0.46156249999999854\n"
     ]
    }
   ],
   "source": [
    "for t in range(20):\n",
    "    T = t+1\n",
    "    delta = (X[0][1] - X[0][0]) / T\n",
    "    Xj_range = np.arange(X[0][0], X[0][1] + 1e-10, delta)\n",
    "    \n",
    "    max_j = -np.inf\n",
    "    max_xj = -np.inf\n",
    "    for j, xj in enumerate(Xj_range):\n",
    "        r_j = revenue(X, J, N, [xj,xj], f, Xj_range, delta)\n",
    "        if r_j >= max_xj:\n",
    "            max_j = j\n",
    "            max_xj = r_j\n",
    "    print('-----\\n',\"T=%s\" % T, Xj_range[max_j], max_xj)"
   ]
  },
  {
   "cell_type": "code",
   "execution_count": 20,
   "id": "1f5c106b",
   "metadata": {},
   "outputs": [
    {
     "name": "stdout",
     "output_type": "stream",
     "text": [
      "0.4603 0.4616 0.4572\n"
     ]
    }
   ],
   "source": [
    "T = 20\n",
    "delta = (X[0][1] - X[0][0]) / T\n",
    "Xj_range = np.arange(X[0][0], X[0][1] + 1e-10, delta)\n",
    "r1 = revenue(X, J, N, [.5,.5], f, Xj_range, delta)\n",
    "r2 = revenue(X, J, N, [.55,.55], f, Xj_range, delta)\n",
    "r3 = revenue(X, J, N, [.6,.6], f, Xj_range, delta)\n",
    "print(np.round(r1,4),np.round(r2,4),np.round(r3,4))"
   ]
  },
  {
   "cell_type": "code",
   "execution_count": 21,
   "id": "bb2b28c2",
   "metadata": {},
   "outputs": [
    {
     "name": "stdout",
     "output_type": "stream",
     "text": [
      "0.4385 0.4378 0.4313\n"
     ]
    }
   ],
   "source": [
    "T = 40\n",
    "delta = (X[0][1] - X[0][0]) / T\n",
    "Xj_range = np.arange(X[0][0], X[0][1] + 1e-10, delta)\n",
    "r1 = revenue(X, J, N, [.5,.5], f, Xj_range, delta)\n",
    "r2 = revenue(X, J, N, [.55,.55], f, Xj_range, delta)\n",
    "r3 = revenue(X, J, N, [.6,.6], f, Xj_range, delta)\n",
    "print(np.round(r1,4),np.round(r2,4),np.round(r3,4))"
   ]
  },
  {
   "cell_type": "code",
   "execution_count": 22,
   "id": "8031e01f",
   "metadata": {},
   "outputs": [
    {
     "name": "stdout",
     "output_type": "stream",
     "text": [
      "0.4254 0.4235 0.4157\n"
     ]
    }
   ],
   "source": [
    "T = 100\n",
    "delta = (X[0][1] - X[0][0]) / T\n",
    "Xj_range = np.arange(X[0][0], X[0][1] + 1e-10, delta)\n",
    "r1 = revenue(X, J, N, [.5,.5], f, Xj_range, delta)\n",
    "r2 = revenue(X, J, N, [.55,.55], f, Xj_range, delta)\n",
    "r3 = revenue(X, J, N, [.6,.6], f, Xj_range, delta)\n",
    "print(np.round(r1,4),np.round(r2,4),np.round(r3,4))"
   ]
  },
  {
   "cell_type": "markdown",
   "id": "41dc9de3",
   "metadata": {},
   "source": [
    "# Notes\n",
    "\n",
    "- without numerical adjustment for outer integral, revenue is still higher than it should be ($Revenue = 0.3849$) \n",
    "- revenue is decreasing as `T` increases\n",
    "- optimal reserver price is hovering around .5"
   ]
  },
  {
   "cell_type": "code",
   "execution_count": 14,
   "id": "a444eb91",
   "metadata": {},
   "outputs": [],
   "source": [
    "# WITH numerical adjustment\n",
    "def revenue2(X, J, N, p, f, Xj_range, delta):\n",
    "    total = 0\n",
    "    for ix, x in enumerate(Xj_range):\n",
    "        for iy, y in enumerate(Xj_range):\n",
    "        \n",
    "            Q1, Q2 = allocation(x, y, p)\n",
    "            \n",
    "            intQxs = []\n",
    "            Xj_subset_x = Xj_range[Xj_range <= x + 1e-10]\n",
    "            if len(Xj_subset_x) > 1:\n",
    "                endpoints_x = [0, len(Xj_subset_x)-1]\n",
    "                for ix2, x2 in enumerate(Xj_subset_x):\n",
    "                    Qx, _ = allocation(x2, y, p)\n",
    "                    if ix2 in endpoints_x:\n",
    "                        # 1/x\n",
    "                        # 2 1 1 1 2 \n",
    "                        Qx /= 2\n",
    "                    intQxs.append(Qx * delta)\n",
    "            intQx = np.sum(intQxs)\n",
    "            \n",
    "            intQys = []\n",
    "            Xj_subset_y = Xj_range[Xj_range <= y + 1e-10]\n",
    "            if len(Xj_subset_y) > 1:\n",
    "                endpoints_y = [0, len(Xj_subset_y)-1]\n",
    "                for iy2, y2 in enumerate(Xj_subset_y):\n",
    "                    _, Qy = allocation(x, y2, p)\n",
    "                    if iy2 in endpoints_y:\n",
    "                        # 1/x\n",
    "                        # 2 1 1 1 2 \n",
    "                        Qy /= 2\n",
    "                    intQys.append(Qy * delta)\n",
    "            intQy = np.sum(intQys)\n",
    "            \n",
    "            U = np.max([intQx, intQy])\n",
    "            \n",
    "            adjust = 1\n",
    "            adjust /= 2 if ix in [0, T] else 1\n",
    "            adjust /= 2 if iy in [0, T] else 1    \n",
    "            \n",
    "            total += N * ((Q1 * x) + (Q2 * y) - U) * f(x, y) * np.power(delta, J) * adjust\n",
    "    return total"
   ]
  },
  {
   "cell_type": "code",
   "execution_count": 15,
   "id": "a2afcbfe",
   "metadata": {},
   "outputs": [
    {
     "name": "stdout",
     "output_type": "stream",
     "text": [
      "-----\n",
      " T=1 1.0 0.4375\n",
      "-----\n",
      " T=2 0.5 0.3671875\n",
      "-----\n",
      " T=3 0.6666666666666666 0.41435185185185186\n",
      "-----\n",
      " T=4 0.5 0.4013671875\n",
      "-----\n",
      " T=5 0.6000000000000001 0.41550000000000026\n",
      "-----\n",
      " T=6 0.5 0.40943287037037035\n",
      "-----\n",
      " T=7 0.5714285714285714 0.41599854227405264\n",
      "-----\n",
      " T=8 0.5 0.4124755859375\n",
      "-----\n",
      " T=9 0.5555555555555556 0.4162379972565158\n",
      "-----\n",
      " T=10 0.5 0.41393750000000007\n",
      "-----\n",
      " T=11 0.5454545454545454 0.41636927122464296\n",
      "-----\n",
      " T=12 0.5 0.4147497106481477\n",
      "-----\n",
      " T=13 0.5384615384615385 0.4164485662266729\n",
      "-----\n",
      " T=14 0.5 0.41524690233236167\n",
      "-----\n",
      " T=15 0.5333333333333333 0.4164999999999997\n",
      "-----\n",
      " T=16 0.5 0.4155731201171875\n",
      "-----\n",
      " T=17 0.5294117647058824 0.4165352127009984\n",
      "-----\n",
      " T=18 0.5 0.41579861111111055\n",
      "-----\n",
      " T=19 0.5263157894736842 0.41656035865286395\n",
      "-----\n",
      " T=20 0.5 0.4159609375\n"
     ]
    }
   ],
   "source": [
    "for t in range(20):\n",
    "    T = t+1\n",
    "    delta = (X[0][1] - X[0][0]) / T\n",
    "    Xj_range = np.arange(X[0][0], X[0][1] + 1e-10, delta)\n",
    "    \n",
    "    max_j = -np.inf\n",
    "    max_xj = -np.inf\n",
    "    for j, xj in enumerate(Xj_range):\n",
    "        r_j = revenue2(X, J, N, [xj,xj], f, Xj_range, delta)\n",
    "        if r_j >= max_xj:\n",
    "            max_j = j\n",
    "            max_xj = r_j\n",
    "    print('-----\\n',\"T=%s\" % T, Xj_range[max_j], max_xj)"
   ]
  },
  {
   "cell_type": "markdown",
   "id": "145a8adb",
   "metadata": {},
   "source": [
    "# Try the stupid simple integral"
   ]
  },
  {
   "cell_type": "code",
   "execution_count": 23,
   "id": "f8ed349e",
   "metadata": {},
   "outputs": [],
   "source": [
    "def stupid(X, J, N, p, f, Xj_range, delta):\n",
    "    total = 0\n",
    "    for ix, x in enumerate(Xj_range):\n",
    "        for iy, y in enumerate(Xj_range):\n",
    "        \n",
    "            Q1, Q2 = allocation(x, y, p)\n",
    "            \n",
    "\n",
    "            total += N * ((Q1 * p[0]) + (Q2 * p[1])) * f(x, y) * np.power(delta, J)\n",
    "    return total"
   ]
  },
  {
   "cell_type": "code",
   "execution_count": 24,
   "id": "d5c2f8b9",
   "metadata": {},
   "outputs": [
    {
     "name": "stdout",
     "output_type": "stream",
     "text": [
      "0.4262 0.44 0.4455\n"
     ]
    }
   ],
   "source": [
    "T = 20\n",
    "delta = (X[0][1] - X[0][0]) / T\n",
    "Xj_range = np.arange(X[0][0], X[0][1] + 1e-10, delta)\n",
    "r1 = stupid(X, J, N, [.5,.5], f, Xj_range, delta)\n",
    "r2 = stupid(X, J, N, [.55,.55], f, Xj_range, delta)\n",
    "r3 = stupid(X, J, N, [.6,.6], f, Xj_range, delta)\n",
    "print(np.round(r1,4),np.round(r2,4),np.round(r3,4))"
   ]
  },
  {
   "cell_type": "code",
   "execution_count": 25,
   "id": "a86dc595",
   "metadata": {},
   "outputs": [
    {
     "name": "stdout",
     "output_type": "stream",
     "text": [
      "0.385 0.3947 0.3961\n"
     ]
    }
   ],
   "source": [
    "T = 100\n",
    "delta = (X[0][1] - X[0][0]) / T\n",
    "Xj_range = np.arange(X[0][0], X[0][1] + 1e-10, delta)\n",
    "r1 = stupid(X, J, N, [.5,.5], f, Xj_range, delta)\n",
    "r2 = stupid(X, J, N, [.55,.55], f, Xj_range, delta)\n",
    "r3 = stupid(X, J, N, [.6,.6], f, Xj_range, delta)\n",
    "print(np.round(r1,4),np.round(r2,4),np.round(r3,4))"
   ]
  },
  {
   "cell_type": "code",
   "execution_count": 27,
   "id": "00f4a45f",
   "metadata": {},
   "outputs": [
    {
     "data": {
      "text/plain": [
       "0.5773502691896257"
      ]
     },
     "execution_count": 27,
     "metadata": {},
     "output_type": "execute_result"
    }
   ],
   "source": [
    "r"
   ]
  },
  {
   "cell_type": "code",
   "execution_count": 28,
   "id": "00eca3d1",
   "metadata": {},
   "outputs": [
    {
     "data": {
      "text/plain": [
       "0.394734379044977"
      ]
     },
     "execution_count": 28,
     "metadata": {},
     "output_type": "execute_result"
    }
   ],
   "source": [
    "stupid(X, J, N, [r,r], f, Xj_range, delta)"
   ]
  },
  {
   "cell_type": "markdown",
   "id": "d59d514f",
   "metadata": {},
   "source": [
    "# Notes\n",
    "\n",
    "- stupid integral value is too high"
   ]
  },
  {
   "cell_type": "code",
   "execution_count": 29,
   "id": "1d82146f",
   "metadata": {},
   "outputs": [],
   "source": [
    "# use numerical adjustment with stupid integral\n",
    "def stupid2(X, J, N, p, f, Xj_range, delta):\n",
    "    total = 0\n",
    "    Q1_array = np.zeros(())\n",
    "    for ix, x in enumerate(Xj_range):\n",
    "        for iy, y in enumerate(Xj_range):\n",
    "        \n",
    "            Q1, Q2 = allocation(x, y, p)\n",
    "                    \n",
    "            adjust = 1\n",
    "            adjust /= 2 if ix in [0, T] else 1\n",
    "            adjust /= 2 if iy in [0, T] else 1   \n",
    "            \n",
    "            total += N * ((Q1 * p[0]) + (Q2 * p[1])) * f(x, y) * np.power(delta, J) * adjust\n",
    "    return total"
   ]
  },
  {
   "cell_type": "code",
   "execution_count": 30,
   "id": "7af06a4b",
   "metadata": {},
   "outputs": [
    {
     "name": "stdout",
     "output_type": "stream",
     "text": [
      "0.385 0.3947 0.3961\n"
     ]
    }
   ],
   "source": [
    "T = 100\n",
    "delta = (X[0][1] - X[0][0]) / T\n",
    "Xj_range = np.arange(X[0][0], X[0][1] + 1e-10, delta)\n",
    "r1 = stupid(X, J, N, [.5,.5], f, Xj_range, delta)\n",
    "r2 = stupid(X, J, N, [.55,.55], f, Xj_range, delta)\n",
    "r3 = stupid(X, J, N, [.6,.6], f, Xj_range, delta)\n",
    "print(np.round(r1,4),np.round(r2,4),np.round(r3,4))"
   ]
  },
  {
   "cell_type": "code",
   "execution_count": 31,
   "id": "0cec92bf",
   "metadata": {},
   "outputs": [
    {
     "name": "stdout",
     "output_type": "stream",
     "text": [
      "0.3775 0.3866 0.3876\n"
     ]
    }
   ],
   "source": [
    "T = 100\n",
    "delta = (X[0][1] - X[0][0]) / T\n",
    "Xj_range = np.arange(X[0][0], X[0][1] + 1e-10, delta)\n",
    "r1 = stupid2(X, J, N, [.5,.5], f, Xj_range, delta)\n",
    "r2 = stupid2(X, J, N, [.55,.55], f, Xj_range, delta)\n",
    "r3 = stupid2(X, J, N, [.6,.6], f, Xj_range, delta)\n",
    "print(np.round(r1,4),np.round(r2,4),np.round(r3,4))"
   ]
  },
  {
   "cell_type": "code",
   "execution_count": 32,
   "id": "8ce37653",
   "metadata": {},
   "outputs": [
    {
     "data": {
      "text/plain": [
       "0.3864638364388346"
      ]
     },
     "execution_count": 32,
     "metadata": {},
     "output_type": "execute_result"
    }
   ],
   "source": [
    "stupid2(X, J, N, [r,r], f, Xj_range, delta)"
   ]
  },
  {
   "cell_type": "code",
   "execution_count": 41,
   "id": "70ae66a8",
   "metadata": {
    "scrolled": false
   },
   "outputs": [
    {
     "name": "stdout",
     "output_type": "stream",
     "text": [
      "T=1 1.0 0.75\n",
      "T=2 0.5 0.46875\n",
      "T=3 0.6666666666666666 0.5\n",
      "T=4 0.75 0.45703125\n",
      "T=5 0.6000000000000001 0.4500000000000003\n",
      "T=6 0.6666666666666666 0.43981481481481455\n",
      "T=7 0.5714285714285714 0.42857142857142844\n",
      "T=8 0.625 0.42724609375\n",
      "T=9 0.6666666666666666 0.4176954732510288\n",
      "T=10 0.6000000000000001 0.4185000000000003\n",
      "T=11 0.6363636363636364 0.4141622839969949\n",
      "T=12 0.5833333333333333 0.4121817129629632\n",
      "T=13 0.6153846153846154 0.41055985434683623\n",
      "T=14 0.5714285714285714 0.4074344023323604\n",
      "T=15 0.6 0.4073333333333333\n",
      "T=16 0.625 0.4046630859375\n",
      "T=17 0.5882352941176471 0.40453897822104584\n",
      "T=18 0.611111111111111 0.4031635802469129\n",
      "T=19 0.5789473684210527 0.40213587986587085\n",
      "T=20 0.6000000000000001 0.40162499999999957\n",
      "T=21 0.5714285714285714 0.4000647878198915\n",
      "T=22 0.5909090909090909 0.4001455672426756\n",
      "T=23 0.6086956521739131 0.3989890687926358\n",
      "T=24 0.5833333333333333 0.3987630208333304\n",
      "T=25 0.6 0.39816000000000046\n",
      "T=26 0.576923076923077 0.39748805188893743\n",
      "T=27 0.5925925925925926 0.3972971599857719\n",
      "T=28 0.5714285714285714 0.3963192419825115\n",
      "T=29 0.5862068965517241 0.3964389683873891\n",
      "T=30 0.6 0.395833333333332\n",
      "T=31 0.5806451612903225 0.39560605552012273\n",
      "T=32 0.59375 0.39530181884765625\n",
      "T=33 0.5757575757575758 0.3948089712552589\n",
      "T=34 0.5882352941176471 0.3947435375534343\n",
      "T=35 0.6 0.39416326530612045\n",
      "T=36 0.5833333333333333 0.3941775977366289\n",
      "T=37 0.5945945945945946 0.3938266242868203\n",
      "T=38 0.5789473684210527 0.39361605190261\n",
      "T=39 0.5897435897435898 0.3934531937490524\n",
      "T=40 0.5750000000000001 0.3930664062499972\n",
      "T=41 0.5853658536585367 0.3930587194033769\n",
      "T=42 0.5952380952380952 0.3926917989418022\n",
      "T=43 0.5813953488372093 0.3926541059277871\n",
      "T=44 0.5909090909090909 0.3924387208865549\n",
      "T=45 0.5777777777777778 0.3922469135802455\n",
      "T=46 0.5869565217391304 0.39215963261279824\n",
      "T=47 0.5744680851063829 0.3918423663350057\n",
      "T=48 0.5833333333333333 0.39186378761573104\n",
      "T=49 0.5918367346938775 0.39162041326318897\n",
      "T=50 0.58 0.3915580000000108\n"
     ]
    }
   ],
   "source": [
    "Ts = []\n",
    "ps = []\n",
    "Rs = []\n",
    "for t in range(50):\n",
    "    T = t+1\n",
    "    delta = (X[0][1] - X[0][0]) / T\n",
    "    Xj_range = np.arange(X[0][0], X[0][1] + 1e-10, delta)\n",
    "    \n",
    "    max_j = -np.inf\n",
    "    max_xj = -np.inf\n",
    "    for j, xj in enumerate(Xj_range):\n",
    "        r_j = stupid2(X, J, N, [xj,xj], f, Xj_range, delta)\n",
    "        if r_j >= max_xj:\n",
    "            max_j = j\n",
    "            max_xj = r_j\n",
    "    print(\"T=%s\" % T, Xj_range[max_j], max_xj)\n",
    "    Ts.append(T)\n",
    "    ps.append(Xj_range[max_j])\n",
    "    Rs.append(max_xj)"
   ]
  },
  {
   "cell_type": "code",
   "execution_count": 43,
   "id": "d2dc0283",
   "metadata": {
    "scrolled": true
   },
   "outputs": [
    {
     "data": {
      "text/plain": [
       "<matplotlib.lines.Line2D at 0x7f98d232f670>"
      ]
     },
     "execution_count": 43,
     "metadata": {},
     "output_type": "execute_result"
    },
    {
     "data": {
      "image/png": "[encoded data removed]",
      "text/plain": [
       "<Figure size 432x288 with 1 Axes>"
      ]
     },
     "metadata": {
      "needs_background": "light"
     },
     "output_type": "display_data"
    }
   ],
   "source": [
    "ax = plt.plot(Ts, Rs)\n",
    "\n",
    "plt.title(r\"Revenue of Exclusive Buyer Mechanism for price $p$\")\n",
    "plt.xlabel(r\"$T$\")\n",
    "plt.ylabel(\"revenue\")\n",
    "\n",
    "plt.axhline(r_opt,color='black')"
   ]
  },
  {
   "cell_type": "code",
   "execution_count": 44,
   "id": "41632e35",
   "metadata": {},
   "outputs": [
    {
     "data": {
      "text/plain": [
       "<matplotlib.lines.Line2D at 0x7f98d2561ca0>"
      ]
     },
     "execution_count": 44,
     "metadata": {},
     "output_type": "execute_result"
    },
    {
     "data": {
      "image/png": "[encoded data removed]",
      "text/plain": [
       "<Figure size 432x288 with 1 Axes>"
      ]
     },
     "metadata": {
      "needs_background": "light"
     },
     "output_type": "display_data"
    }
   ],
   "source": [
    "ax = plt.plot(Ts, ps)\n",
    "\n",
    "plt.title(r\"optimal price of Exclusive Buyer Mechanism\")\n",
    "plt.xlabel(r\"$T$\")\n",
    "plt.ylabel(\"price\")\n",
    "\n",
    "plt.axhline(r,color='black')"
   ]
  },
  {
   "cell_type": "code",
   "execution_count": 45,
   "id": "278af10b",
   "metadata": {},
   "outputs": [
    {
     "name": "stdout",
     "output_type": "stream",
     "text": [
      "T=101 0.5841584158415841 0.388183889950642\n",
      "T=102 0.5784313725490196 0.38816447859419345\n",
      "T=103 0.5825242718446602 0.3881344562731601\n",
      "T=104 0.576923076923077 0.38808691539603896\n",
      "T=105 0.580952380952381 0.38807882518089615\n"
     ]
    }
   ],
   "source": [
    "for t in range(100,105):\n",
    "    T = t+1\n",
    "    delta = (X[0][1] - X[0][0]) / T\n",
    "    Xj_range = np.arange(X[0][0], X[0][1] + 1e-10, delta)\n",
    "    \n",
    "    max_j = -np.inf\n",
    "    max_xj = -np.inf\n",
    "    for j, xj in enumerate(Xj_range):\n",
    "        r_j = stupid2(X, J, N, [xj,xj], f, Xj_range, delta)\n",
    "        if r_j >= max_xj:\n",
    "            max_j = j\n",
    "            max_xj = r_j\n",
    "    print(\"T=%s\" % T, Xj_range[max_j], max_xj)"
   ]
  },
  {
   "cell_type": "code",
   "execution_count": 46,
   "id": "93416649",
   "metadata": {},
   "outputs": [
    {
     "data": {
      "text/plain": [
       "(0.5773502691896257, 0.3849001794597505)"
      ]
     },
     "execution_count": 46,
     "metadata": {},
     "output_type": "execute_result"
    }
   ],
   "source": [
    "r, r_opt"
   ]
  },
  {
   "cell_type": "code",
   "execution_count": 48,
   "id": "8b77468f",
   "metadata": {},
   "outputs": [
    {
     "data": {
      "text/plain": [
       "106"
      ]
     },
     "execution_count": 48,
     "metadata": {},
     "output_type": "execute_result"
    }
   ],
   "source": [
    "len(Xj_range)"
   ]
  },
  {
   "cell_type": "code",
   "execution_count": 52,
   "id": "5d9c3c55",
   "metadata": {},
   "outputs": [],
   "source": [
    "# use numerical adjustment with stupid integral\n",
    "def revenue_simple(X, J, N, p, f, Xj_range, delta):\n",
    "    Q1_array = np.zeros((len(Xj_range),len(Xj_range)))\n",
    "    Q2_array = np.zeros((len(Xj_range),len(Xj_range)))\n",
    "    total = 0\n",
    "    for ix, x in enumerate(Xj_range):\n",
    "        for iy, y in enumerate(Xj_range):\n",
    "        \n",
    "            Q1, Q2 = allocation(x, y, p)\n",
    "            Q1_array[ix,iy] = Q1\n",
    "            Q2_array[ix,iy] = Q2\n",
    "                    \n",
    "            adjust = 1\n",
    "            adjust /= 2 if ix in [0, T] else 1\n",
    "            adjust /= 2 if iy in [0, T] else 1   \n",
    "            \n",
    "            total += N * ((Q1 * p[0]) + (Q2 * p[1])) * f(x, y) * np.power(delta, J) * adjust\n",
    "    return total, Q1_array, Q2_array"
   ]
  },
  {
   "cell_type": "code",
   "execution_count": 55,
   "id": "f8ceb8c5",
   "metadata": {},
   "outputs": [
    {
     "name": "stdout",
     "output_type": "stream",
     "text": [
      "T=11 0.6363636363636364 0.4141622839969949\n",
      "T=12 0.5833333333333333 0.4121817129629632\n",
      "T=13 0.6153846153846154 0.41055985434683623\n",
      "T=14 0.5714285714285714 0.4074344023323604\n",
      "T=15 0.6 0.4073333333333333\n",
      "T=16 0.625 0.4046630859375\n",
      "T=17 0.5882352941176471 0.40453897822104584\n",
      "T=18 0.611111111111111 0.4031635802469129\n",
      "T=19 0.5789473684210527 0.40213587986587085\n",
      "T=20 0.6000000000000001 0.40162499999999957\n"
     ]
    }
   ],
   "source": [
    "for t in range(10,20):\n",
    "    T = t+1\n",
    "    delta = (X[0][1] - X[0][0]) / T\n",
    "    Xj_range = np.arange(X[0][0], X[0][1] + 1e-10, delta)\n",
    "    \n",
    "    max_j = -np.inf\n",
    "    max_xj = -np.inf\n",
    "    max_Q1 = []\n",
    "    max_Q2 = []\n",
    "    for j, xj in enumerate(Xj_range):\n",
    "        r_j, Q1_array, Q2_array = \\\n",
    "            revenue_simple(X, J, N, [xj,xj], f, Xj_range, delta)\n",
    "        if r_j >= max_xj:\n",
    "            max_j = j\n",
    "            max_xj = r_j\n",
    "            max_Q1 = Q1_array\n",
    "            max_Q2 = Q2_array\n",
    "    print(\"T=%s\" % T, Xj_range[max_j], max_xj)"
   ]
  },
  {
   "cell_type": "code",
   "execution_count": 57,
   "id": "e0c8c555",
   "metadata": {},
   "outputs": [
    {
     "data": {
      "text/plain": [
       "array([[0. , 0. , 0. , 0. , 0. , 0. , 0. , 0. , 0. , 0. , 0. , 0. , 0. ,\n",
       "        0. , 0. , 0. , 0. , 0. , 0. , 0. , 0. ],\n",
       "       [0. , 0. , 0. , 0. , 0. , 0. , 0. , 0. , 0. , 0. , 0. , 0. , 0. ,\n",
       "        0. , 0. , 0. , 0. , 0. , 0. , 0. , 0. ],\n",
       "       [0. , 0. , 0. , 0. , 0. , 0. , 0. , 0. , 0. , 0. , 0. , 0. , 0. ,\n",
       "        0. , 0. , 0. , 0. , 0. , 0. , 0. , 0. ],\n",
       "       [0. , 0. , 0. , 0. , 0. , 0. , 0. , 0. , 0. , 0. , 0. , 0. , 0. ,\n",
       "        0. , 0. , 0. , 0. , 0. , 0. , 0. , 0. ],\n",
       "       [0. , 0. , 0. , 0. , 0. , 0. , 0. , 0. , 0. , 0. , 0. , 0. , 0. ,\n",
       "        0. , 0. , 0. , 0. , 0. , 0. , 0. , 0. ],\n",
       "       [0. , 0. , 0. , 0. , 0. , 0. , 0. , 0. , 0. , 0. , 0. , 0. , 0. ,\n",
       "        0. , 0. , 0. , 0. , 0. , 0. , 0. , 0. ],\n",
       "       [0. , 0. , 0. , 0. , 0. , 0. , 0. , 0. , 0. , 0. , 0. , 0. , 0. ,\n",
       "        0. , 0. , 0. , 0. , 0. , 0. , 0. , 0. ],\n",
       "       [0. , 0. , 0. , 0. , 0. , 0. , 0. , 0. , 0. , 0. , 0. , 0. , 0. ,\n",
       "        0. , 0. , 0. , 0. , 0. , 0. , 0. , 0. ],\n",
       "       [0. , 0. , 0. , 0. , 0. , 0. , 0. , 0. , 0. , 0. , 0. , 0. , 0. ,\n",
       "        0. , 0. , 0. , 0. , 0. , 0. , 0. , 0. ],\n",
       "       [0. , 0. , 0. , 0. , 0. , 0. , 0. , 0. , 0. , 0. , 0. , 0. , 0. ,\n",
       "        0. , 0. , 0. , 0. , 0. , 0. , 0. , 0. ],\n",
       "       [0. , 0. , 0. , 0. , 0. , 0. , 0. , 0. , 0. , 0. , 0. , 0. , 0. ,\n",
       "        0. , 0. , 0. , 0. , 0. , 0. , 0. , 0. ],\n",
       "       [0. , 0. , 0. , 0. , 0. , 0. , 0. , 0. , 0. , 0. , 0. , 0. , 0. ,\n",
       "        0. , 0. , 0. , 0. , 0. , 0. , 0. , 0. ],\n",
       "       [1. , 1. , 1. , 1. , 1. , 1. , 1. , 1. , 1. , 1. , 1. , 1. , 0.5,\n",
       "        0. , 0. , 0. , 0. , 0. , 0. , 0. , 0. ],\n",
       "       [1. , 1. , 1. , 1. , 1. , 1. , 1. , 1. , 1. , 1. , 1. , 1. , 1. ,\n",
       "        0.5, 0. , 0. , 0. , 0. , 0. , 0. , 0. ],\n",
       "       [1. , 1. , 1. , 1. , 1. , 1. , 1. , 1. , 1. , 1. , 1. , 1. , 1. ,\n",
       "        1. , 0.5, 0. , 0. , 0. , 0. , 0. , 0. ],\n",
       "       [1. , 1. , 1. , 1. , 1. , 1. , 1. , 1. , 1. , 1. , 1. , 1. , 1. ,\n",
       "        1. , 1. , 0.5, 0. , 0. , 0. , 0. , 0. ],\n",
       "       [1. , 1. , 1. , 1. , 1. , 1. , 1. , 1. , 1. , 1. , 1. , 1. , 1. ,\n",
       "        1. , 1. , 1. , 0.5, 0. , 0. , 0. , 0. ],\n",
       "       [1. , 1. , 1. , 1. , 1. , 1. , 1. , 1. , 1. , 1. , 1. , 1. , 1. ,\n",
       "        1. , 1. , 1. , 1. , 0.5, 0. , 0. , 0. ],\n",
       "       [1. , 1. , 1. , 1. , 1. , 1. , 1. , 1. , 1. , 1. , 1. , 1. , 1. ,\n",
       "        1. , 1. , 1. , 1. , 1. , 0.5, 0. , 0. ],\n",
       "       [1. , 1. , 1. , 1. , 1. , 1. , 1. , 1. , 1. , 1. , 1. , 1. , 1. ,\n",
       "        1. , 1. , 1. , 1. , 1. , 1. , 0.5, 0. ],\n",
       "       [1. , 1. , 1. , 1. , 1. , 1. , 1. , 1. , 1. , 1. , 1. , 1. , 1. ,\n",
       "        1. , 1. , 1. , 1. , 1. , 1. , 1. , 0.5]])"
      ]
     },
     "execution_count": 57,
     "metadata": {},
     "output_type": "execute_result"
    }
   ],
   "source": [
    "max_Q1"
   ]
  },
  {
   "cell_type": "code",
   "execution_count": 58,
   "id": "1d03faa3",
   "metadata": {},
   "outputs": [
    {
     "data": {
      "text/plain": [
       "0.6000000000000001"
      ]
     },
     "execution_count": 58,
     "metadata": {},
     "output_type": "execute_result"
    }
   ],
   "source": [
    "Xj_range[max_j]"
   ]
  },
  {
   "cell_type": "code",
   "execution_count": 65,
   "id": "ed426727",
   "metadata": {},
   "outputs": [],
   "source": [
    "T = 10\n",
    "delta = (X[0][1] - X[0][0]) / T\n",
    "Xj_range = np.arange(X[0][0], X[0][1] + 1e-10, delta)\n",
    "r, Q1, Q2 = revenue_simple(X, J, N, [.55,.55], f, Xj_range, delta)"
   ]
  },
  {
   "cell_type": "code",
   "execution_count": 66,
   "id": "eb5d2d42",
   "metadata": {},
   "outputs": [
    {
     "data": {
      "text/plain": [
       "array([[0. , 0. , 0. , 0. , 0. , 0. , 0. , 0. , 0. , 0. , 0. ],\n",
       "       [0. , 0. , 0. , 0. , 0. , 0. , 0. , 0. , 0. , 0. , 0. ],\n",
       "       [0. , 0. , 0. , 0. , 0. , 0. , 0. , 0. , 0. , 0. , 0. ],\n",
       "       [0. , 0. , 0. , 0. , 0. , 0. , 0. , 0. , 0. , 0. , 0. ],\n",
       "       [0. , 0. , 0. , 0. , 0. , 0. , 0. , 0. , 0. , 0. , 0. ],\n",
       "       [0. , 0. , 0. , 0. , 0. , 0. , 0. , 0. , 0. , 0. , 0. ],\n",
       "       [1. , 1. , 1. , 1. , 1. , 1. , 0.5, 0. , 0. , 0. , 0. ],\n",
       "       [1. , 1. , 1. , 1. , 1. , 1. , 1. , 0.5, 0. , 0. , 0. ],\n",
       "       [1. , 1. , 1. , 1. , 1. , 1. , 1. , 1. , 0.5, 0. , 0. ],\n",
       "       [1. , 1. , 1. , 1. , 1. , 1. , 1. , 1. , 1. , 0.5, 0. ],\n",
       "       [1. , 1. , 1. , 1. , 1. , 1. , 1. , 1. , 1. , 1. , 0.5]])"
      ]
     },
     "execution_count": 66,
     "metadata": {},
     "output_type": "execute_result"
    }
   ],
   "source": [
    "Q1"
   ]
  },
  {
   "cell_type": "code",
   "execution_count": 67,
   "id": "bf8a689d",
   "metadata": {},
   "outputs": [
    {
     "data": {
      "text/plain": [
       "array([[0., 0., 0., 0., 0., 0., 1., 1., 1., 1., 1.],\n",
       "       [0., 0., 0., 0., 0., 0., 1., 1., 1., 1., 1.],\n",
       "       [0., 0., 0., 0., 0., 0., 1., 1., 1., 1., 1.],\n",
       "       [0., 0., 0., 0., 0., 0., 1., 1., 1., 1., 1.],\n",
       "       [0., 0., 0., 0., 0., 0., 1., 1., 1., 1., 1.],\n",
       "       [0., 0., 0., 0., 0., 0., 1., 1., 1., 1., 1.],\n",
       "       [1., 1., 1., 1., 1., 1., 1., 1., 1., 1., 1.],\n",
       "       [1., 1., 1., 1., 1., 1., 1., 1., 1., 1., 1.],\n",
       "       [1., 1., 1., 1., 1., 1., 1., 1., 1., 1., 1.],\n",
       "       [1., 1., 1., 1., 1., 1., 1., 1., 1., 1., 1.],\n",
       "       [1., 1., 1., 1., 1., 1., 1., 1., 1., 1., 1.]])"
      ]
     },
     "execution_count": 67,
     "metadata": {},
     "output_type": "execute_result"
    }
   ],
   "source": [
    "Q1 + Q2"
   ]
  },
  {
   "cell_type": "markdown",
   "id": "6935388f",
   "metadata": {},
   "source": [
    "# Notes (testing old code)\n",
    "\n",
    "- testing old code from auction repo"
   ]
  },
  {
   "cell_type": "code",
   "execution_count": 70,
   "id": "d0a99904",
   "metadata": {},
   "outputs": [],
   "source": [
    "from auction.exclusive import ExclusiveBuyerMechanismApproximation as EBMApprox"
   ]
  },
  {
   "cell_type": "code",
   "execution_count": 84,
   "id": "c7ea48c0",
   "metadata": {},
   "outputs": [],
   "source": [
    "T = 10\n",
    "ebm = EBMApprox(\n",
    "    N=1,\n",
    "    X=[[0,1],[0,1]],\n",
    "    c=[0,0],\n",
    "    T=T,\n",
    "    f=f\n",
    ")"
   ]
  },
  {
   "cell_type": "code",
   "execution_count": 85,
   "id": "c0942b49",
   "metadata": {},
   "outputs": [
    {
     "data": {
      "text/plain": [
       "0.43762499999999993"
      ]
     },
     "execution_count": 85,
     "metadata": {},
     "output_type": "execute_result"
    }
   ],
   "source": [
    "ebm.obj([.5,.5])"
   ]
  },
  {
   "cell_type": "code",
   "execution_count": 86,
   "id": "eafcb9ef",
   "metadata": {},
   "outputs": [],
   "source": [
    "Q1 = [q[0] for q in ebm.Q]"
   ]
  },
  {
   "cell_type": "code",
   "execution_count": 87,
   "id": "3b0b2dc5",
   "metadata": {},
   "outputs": [
    {
     "data": {
      "text/plain": [
       "array([[0., 0., 0., 0., 0., 0., 0., 0., 0., 0., 0.],\n",
       "       [0., 0., 0., 0., 0., 0., 0., 0., 0., 0., 0.],\n",
       "       [0., 0., 0., 0., 0., 0., 0., 0., 0., 0., 0.],\n",
       "       [0., 0., 0., 0., 0., 0., 0., 0., 0., 0., 0.],\n",
       "       [0., 0., 0., 0., 0., 0., 0., 0., 0., 0., 0.],\n",
       "       [1., 1., 1., 1., 1., 1., 0., 0., 0., 0., 0.],\n",
       "       [1., 1., 1., 1., 1., 1., 1., 0., 0., 0., 0.],\n",
       "       [1., 1., 1., 1., 1., 1., 1., 1., 0., 0., 0.],\n",
       "       [1., 1., 1., 1., 1., 1., 1., 1., 1., 0., 0.],\n",
       "       [1., 1., 1., 1., 1., 1., 1., 1., 1., 1., 0.],\n",
       "       [1., 1., 1., 1., 1., 1., 1., 1., 1., 1., 1.]])"
      ]
     },
     "execution_count": 87,
     "metadata": {},
     "output_type": "execute_result"
    }
   ],
   "source": [
    "np.array(Q1).reshape((T+1,T+1))"
   ]
  },
  {
   "cell_type": "code",
   "execution_count": 88,
   "id": "86f5972b",
   "metadata": {},
   "outputs": [
    {
     "data": {
      "text/plain": [
       "array([0. , 0.1, 0.2, 0.3, 0.4, 0.5, 0.6, 0.7, 0.8, 0.9, 1. ])"
      ]
     },
     "execution_count": 88,
     "metadata": {},
     "output_type": "execute_result"
    }
   ],
   "source": [
    "delta = (X[0][1] - X[0][0]) / T\n",
    "Xj_range = np.arange(X[0][0], X[0][1] + 1e-10, delta)\n",
    "Xj_range"
   ]
  },
  {
   "cell_type": "code",
   "execution_count": 91,
   "id": "a5812d86",
   "metadata": {},
   "outputs": [
    {
     "name": "stdout",
     "output_type": "stream",
     "text": [
      "0/11\n",
      "1/11\n",
      "2/11\n",
      "3/11\n",
      "4/11\n",
      "5/11\n",
      "6/11\n",
      "7/11\n",
      "8/11\n",
      "9/11\n",
      "10/11\n"
     ]
    },
    {
     "data": {
      "text/plain": [
       "[0.33474999999999994,\n",
       " 0.3396249999999999,\n",
       " 0.363125,\n",
       " 0.39262499999999995,\n",
       " 0.42012499999999997,\n",
       " 0.43762499999999993,\n",
       " 0.437125,\n",
       " 0.41062499999999996,\n",
       " 0.35012499999999996,\n",
       " 0.24762500000000012,\n",
       " 0.09512500000000006]"
      ]
     },
     "execution_count": 91,
     "metadata": {},
     "output_type": "execute_result"
    }
   ],
   "source": [
    "p = [[x,x] for x in Xj_range]\n",
    "ebm.evaluate(p)"
   ]
  },
  {
   "cell_type": "code",
   "execution_count": 92,
   "id": "df7d029f",
   "metadata": {},
   "outputs": [
    {
     "name": "stdout",
     "output_type": "stream",
     "text": [
      "0/21\n",
      "2/21\n",
      "4/21\n",
      "6/21\n",
      "8/21\n",
      "10/21\n",
      "12/21\n",
      "14/21\n",
      "16/21\n",
      "18/21\n",
      "20/21\n"
     ]
    },
    {
     "data": {
      "text/plain": [
       "(0.5, 0.4281406250000007)"
      ]
     },
     "execution_count": 92,
     "metadata": {},
     "output_type": "execute_result"
    }
   ],
   "source": [
    "T = 20\n",
    "ebm = EBMApprox(\n",
    "    N=1,\n",
    "    X=[[0,1],[0,1]],\n",
    "    c=[0,0],\n",
    "    T=T,\n",
    "    f=f\n",
    ")\n",
    "\n",
    "delta = (X[0][1] - X[0][0]) / T\n",
    "Xj_range = np.arange(X[0][0], X[0][1] + 1e-10, delta)\n",
    "p = [[x,x] for x in Xj_range]\n",
    "data = ebm.evaluate(p)\n",
    "Xj_range[np.argmax(data)], max(data)"
   ]
  },
  {
   "cell_type": "code",
   "execution_count": 94,
   "id": "6e6df7c9",
   "metadata": {},
   "outputs": [
    {
     "name": "stdout",
     "output_type": "stream",
     "text": [
      "0/22\n",
      "2/22\n",
      "4/22\n",
      "6/22\n",
      "8/22\n",
      "10/22\n",
      "12/22\n",
      "14/22\n",
      "16/22\n",
      "18/22\n",
      "20/22\n"
     ]
    },
    {
     "data": {
      "text/plain": [
       "(0.5238095238095237, 0.42820699708454896)"
      ]
     },
     "execution_count": 94,
     "metadata": {},
     "output_type": "execute_result"
    }
   ],
   "source": [
    "T = 21\n",
    "ebm = EBMApprox(\n",
    "    N=1,\n",
    "    X=[[0,1],[0,1]],\n",
    "    c=[0,0],\n",
    "    T=T,\n",
    "    f=f\n",
    ")\n",
    "\n",
    "delta = (X[0][1] - X[0][0]) / T\n",
    "Xj_range = np.arange(X[0][0], X[0][1] + 1e-10, delta)\n",
    "p = [[x,x] for x in Xj_range]\n",
    "data = ebm.evaluate(p)\n",
    "Xj_range[np.argmax(data)], max(data)"
   ]
  },
  {
   "cell_type": "code",
   "execution_count": 93,
   "id": "8dc1f877",
   "metadata": {},
   "outputs": [
    {
     "name": "stdout",
     "output_type": "stream",
     "text": [
      "0/31\n",
      "3/31\n",
      "6/31\n",
      "9/31\n",
      "12/31\n",
      "15/31\n",
      "18/31\n",
      "21/31\n",
      "24/31\n",
      "27/31\n",
      "30/31\n"
     ]
    },
    {
     "data": {
      "text/plain": [
       "(0.5, 0.42454166666666765)"
      ]
     },
     "execution_count": 93,
     "metadata": {},
     "output_type": "execute_result"
    }
   ],
   "source": [
    "T = 30\n",
    "ebm = EBMApprox(\n",
    "    N=1,\n",
    "    X=[[0,1],[0,1]],\n",
    "    c=[0,0],\n",
    "    T=T,\n",
    "    f=f\n",
    ")\n",
    "\n",
    "delta = (X[0][1] - X[0][0]) / T\n",
    "Xj_range = np.arange(X[0][0], X[0][1] + 1e-10, delta)\n",
    "p = [[x,x] for x in Xj_range]\n",
    "data = ebm.evaluate(p)\n",
    "Xj_range[np.argmax(data)], max(data)"
   ]
  },
  {
   "cell_type": "code",
   "execution_count": 95,
   "id": "54b0c0fc",
   "metadata": {},
   "outputs": [
    {
     "name": "stdout",
     "output_type": "stream",
     "text": [
      "0/32\n",
      "3/32\n",
      "6/32\n",
      "9/32\n",
      "12/32\n",
      "15/32\n",
      "18/32\n",
      "21/32\n",
      "24/32\n",
      "27/32\n",
      "30/32\n"
     ]
    },
    {
     "data": {
      "text/plain": [
       "(0.5161290322580645, 0.42456194823940296)"
      ]
     },
     "execution_count": 95,
     "metadata": {},
     "output_type": "execute_result"
    }
   ],
   "source": [
    "T = 31\n",
    "ebm = EBMApprox(\n",
    "    N=1,\n",
    "    X=[[0,1],[0,1]],\n",
    "    c=[0,0],\n",
    "    T=T,\n",
    "    f=f\n",
    ")\n",
    "\n",
    "delta = (X[0][1] - X[0][0]) / T\n",
    "Xj_range = np.arange(X[0][0], X[0][1] + 1e-10, delta)\n",
    "p = [[x,x] for x in Xj_range]\n",
    "data = ebm.evaluate(p)\n",
    "Xj_range[np.argmax(data)], max(data)"
   ]
  },
  {
   "cell_type": "markdown",
   "id": "ce223a67",
   "metadata": {},
   "source": [
    "# Notes\n",
    "\n",
    "- revenue looks like it's decreasing with T but it's still too high\n",
    "- the optimal price is ~.5, which is wrong..."
   ]
  },
  {
   "cell_type": "markdown",
   "id": "fd4e106d",
   "metadata": {},
   "source": [
    "# Notes on computing $F^{N-1}$ "
   ]
  },
  {
   "cell_type": "code",
   "execution_count": 3,
   "id": "860214d3",
   "metadata": {},
   "outputs": [],
   "source": [
    "p = [.5,.5]"
   ]
  },
  {
   "cell_type": "code",
   "execution_count": 5,
   "id": "d10224a4",
   "metadata": {},
   "outputs": [
    {
     "data": {
      "text/plain": [
       "array([0.  , 0.05, 0.1 , 0.15, 0.2 , 0.25, 0.3 , 0.35, 0.4 , 0.45, 0.5 ,\n",
       "       0.55, 0.6 , 0.65, 0.7 , 0.75, 0.8 , 0.85, 0.9 , 0.95, 1.  ])"
      ]
     },
     "execution_count": 5,
     "metadata": {},
     "output_type": "execute_result"
    }
   ],
   "source": [
    "Xj_range"
   ]
  },
  {
   "cell_type": "code",
   "execution_count": 37,
   "id": "e2b30b07",
   "metadata": {},
   "outputs": [],
   "source": [
    "N = 2\n",
    "J = 2\n",
    "X = [[0,1],[0,1]]\n",
    "T = 10\n",
    "\n",
    "delta = (X[0][1] - X[0][0]) / T\n",
    "Xj_range = np.arange(X[0][0], X[0][1] + 1e-10, delta)\n",
    "\n",
    "def f(x):\n",
    "    return 1"
   ]
  },
  {
   "cell_type": "code",
   "execution_count": 49,
   "id": "37059a0e",
   "metadata": {
    "scrolled": false
   },
   "outputs": [],
   "source": [
    "def FNminus1(x):\n",
    "    Xj_subsets = []\n",
    "    for j in range(J):\n",
    "        Xj_subset = Xj_range[Xj_range <= x[j] + 1e-10]\n",
    "        Xj_subsets.append(Xj_subset)\n",
    "    X_subset = itertools.product(*Xj_subsets)\n",
    "\n",
    "    subset_mass = 0\n",
    "    for i, x in enumerate(X_subset):\n",
    "        adjust = 1\n",
    "        for j in range(J):\n",
    "            if np.isclose(x[j], Xj_subsets[j][0]) or np.isclose(x[j], Xj_subsets[j][-1]):\n",
    "                adjust /= 2\n",
    "        subset_mass += f(x) * np.power(delta, J) * adjust \n",
    "\n",
    "    return np.power(subset_mass, N - 1)"
   ]
  },
  {
   "cell_type": "code",
   "execution_count": 59,
   "id": "6b550756",
   "metadata": {},
   "outputs": [
    {
     "data": {
      "text/plain": [
       "(1.0000000000000007, True)"
      ]
     },
     "execution_count": 59,
     "metadata": {},
     "output_type": "execute_result"
    }
   ],
   "source": [
    "FNminus1([1,1]), np.isclose(FNminus1([1,1]), 1)"
   ]
  },
  {
   "cell_type": "code",
   "execution_count": 48,
   "id": "f047edab",
   "metadata": {},
   "outputs": [
    {
     "data": {
      "text/plain": [
       "0.5"
      ]
     },
     "execution_count": 48,
     "metadata": {},
     "output_type": "execute_result"
    }
   ],
   "source": [
    "np.min(x)"
   ]
  },
  {
   "cell_type": "markdown",
   "id": "8869a90f",
   "metadata": {},
   "source": [
    "# Testing Belloni alloc + revenue with new code"
   ]
  },
  {
   "cell_type": "code",
   "execution_count": 14,
   "id": "9950bb17",
   "metadata": {},
   "outputs": [],
   "source": [
    "def f(x):\n",
    "    return .25\n",
    "\n",
    "T = 20\n",
    "\n",
    "ebm = EBM(\n",
    "    N=2,\n",
    "    X=[[6,8],[9,11]],\n",
    "    c=[.9,5],\n",
    "    T=T,\n",
    "    f=f)"
   ]
  },
  {
   "cell_type": "code",
   "execution_count": 20,
   "id": "4406f655",
   "metadata": {},
   "outputs": [
    {
     "name": "stdout",
     "output_type": "stream",
     "text": [
      "T=20 5.233093359374957\n"
     ]
    }
   ],
   "source": [
    "p = [6, min(ebm.Xj_ranges[1][ebm.Xj_ranges[1] >= 9.7 - 1e-10])] # CAREFUL WITH PRICE!\n",
    "res = ebm.obj(p)\n",
    "print(\"T=%s\" % T, res[0])"
   ]
  },
  {
   "cell_type": "code",
   "execution_count": 21,
   "id": "d2a85055",
   "metadata": {},
   "outputs": [
    {
     "name": "stdout",
     "output_type": "stream",
     "text": [
      "[[0.3788 0.4463 0.5187 0.5937 0.675 ]\n",
      " [0.3788 0.4463 0.5187 0.5937 0.675 ]\n",
      " [0.3788 0.4463 0.5187 0.5937 0.675 ]\n",
      " [0.3788 0.4463 0.5187 0.5937 0.675 ]\n",
      " [0.3788 0.4463 0.5187 0.5937 0.675 ]\n",
      " [0.3788 0.4463 0.5187 0.5937 0.675 ]\n",
      " [0.3788 0.4463 0.5187 0.5937 0.675 ]\n",
      " [0.3788 0.4463 0.5187 0.5937 0.675 ]\n",
      " [0.3788 0.4463 0.5187 0.5937 0.675 ]\n",
      " [0.1894 0.4463 0.5187 0.5937 0.675 ]\n",
      " [0.     0.2231 0.5187 0.5937 0.675 ]\n",
      " [0.     0.     0.2594 0.5937 0.675 ]\n",
      " [0.     0.     0.     0.2969 0.675 ]\n",
      " [0.     0.     0.     0.     0.3375]\n",
      " [0.     0.     0.     0.     0.    ]\n",
      " [0.     0.     0.     0.     0.    ]\n",
      " [0.     0.     0.     0.     0.    ]\n",
      " [0.     0.     0.     0.     0.    ]\n",
      " [0.     0.     0.     0.     0.    ]\n",
      " [0.     0.     0.     0.     0.    ]\n",
      " [0.     0.     0.     0.     0.    ]]\n"
     ]
    }
   ],
   "source": [
    "Qs = res[1]\n",
    "print(np.round(np.array([Q[1] for Q in Qs]).reshape((ebm.T+1,ebm.T+1)),4)[:,-5:])"
   ]
  },
  {
   "cell_type": "code",
   "execution_count": 22,
   "id": "7755e076",
   "metadata": {},
   "outputs": [
    {
     "name": "stdout",
     "output_type": "stream",
     "text": [
      "[[0.3788 0.4463 0.5187 0.5937 0.675 ]\n",
      " [0.3788 0.4463 0.5187 0.5937 0.675 ]\n",
      " [0.3788 0.4463 0.5187 0.5937 0.675 ]\n",
      " [0.3788 0.4463 0.5187 0.5937 0.675 ]\n",
      " [0.3788 0.4463 0.5187 0.5937 0.675 ]\n",
      " [0.3788 0.4463 0.5187 0.5937 0.675 ]\n",
      " [0.3788 0.4463 0.5187 0.5937 0.675 ]\n",
      " [0.3788 0.4463 0.5187 0.5937 0.675 ]\n",
      " [0.3788 0.4463 0.5187 0.5937 0.675 ]\n",
      " [0.3788 0.4463 0.5187 0.5937 0.675 ]\n",
      " [0.4463 0.4463 0.5187 0.5937 0.675 ]\n",
      " [0.5187 0.5187 0.5187 0.5937 0.675 ]\n",
      " [0.5937 0.5937 0.5937 0.5937 0.675 ]\n",
      " [0.675  0.675  0.675  0.675  0.675 ]\n",
      " [0.725  0.725  0.725  0.725  0.725 ]\n",
      " [0.775  0.775  0.775  0.775  0.775 ]\n",
      " [0.825  0.825  0.825  0.825  0.825 ]\n",
      " [0.875  0.875  0.875  0.875  0.875 ]\n",
      " [0.925  0.925  0.925  0.925  0.925 ]\n",
      " [0.975  0.975  0.975  0.975  0.975 ]\n",
      " [1.     1.     1.     1.     1.    ]]\n"
     ]
    }
   ],
   "source": [
    "Qs = res[1]\n",
    "print(np.round(np.array([Q[0]+Q[1] for Q in Qs]).reshape((ebm.T+1,ebm.T+1)),4)[:,-5:])"
   ]
  },
  {
   "cell_type": "code",
   "execution_count": 23,
   "id": "053c7c7e",
   "metadata": {},
   "outputs": [],
   "source": [
    "Q1 = np.round(np.array([Q[0] for Q in Qs]).reshape((ebm.T+1,ebm.T+1)),4)\n",
    "Q2 = np.round(np.array([Q[1] for Q in Qs]).reshape((ebm.T+1,ebm.T+1)),4)"
   ]
  },
  {
   "cell_type": "code",
   "execution_count": 24,
   "id": "6cc935aa",
   "metadata": {},
   "outputs": [
    {
     "data": {
      "image/png": "[encoded data removed]",
      "text/plain": [
       "<Figure size 576x576 with 1 Axes>"
      ]
     },
     "metadata": {
      "needs_background": "light"
     },
     "output_type": "display_data"
    }
   ],
   "source": [
    "fig, ax = plt.subplots(subplot_kw={\"projection\": \"3d\"}, figsize=(8,8))\n",
    "\n",
    "n_ticks = 6\n",
    "xticks = np.linspace(ebm.X[0][0], ebm.X[0][1], n_ticks) \n",
    "yticks = np.linspace(ebm.X[1][0], ebm.X[1][1], n_ticks) \n",
    "\n",
    "X = np.array(ebm.Xj_ranges[0])\n",
    "Y = np.array(ebm.Xj_ranges[1])\n",
    "X, Y = np.meshgrid(X, Y)\n",
    "Z = (Q1+Q2).T\n",
    "\n",
    "# ax.plot_surface(X, Y, Z, color='grey') #cmap to make it easier to see ? \n",
    "\n",
    "surf = ax.plot_surface(X, Y, Z, cmap='viridis')\n",
    "\n",
    "ax.title.set_text(r\"$N=2$ (T=%s)\" % ebm.T)\n",
    "ax.title.set_size('x-large')\n",
    "\n",
    "ax.invert_xaxis()\n",
    "ax.set_xlabel(r\"$V_1$\", size='x-large',  labelpad=10)\n",
    "ax.set_xticks(xticks)\n",
    "ax.set_xticklabels(xticks, va='top') \n",
    "\n",
    "ax.set_ylabel(r\"$V_2$\", size='x-large',  labelpad=10)\n",
    "ax.set_yticks(yticks)\n",
    "ax.set_yticklabels(yticks, ha='left', va='bottom')\n",
    "\n",
    "ax.set_zlim(0, 1)\n",
    "ax.zaxis.set_rotate_label(False)\n",
    "ax.set_zlabel(r\"$Q_1 + Q_2$\", rotation=90, size='x-large', labelpad=10)\n",
    "ax.zaxis.set_major_formatter('{x:.01f}')\n",
    "\n",
    "# fig.colorbar(surf, shrink=0.5, aspect=5)\n",
    "\n",
    "plt.rcParams.update({'font.size': 16})\n",
    "\n",
    "plt.savefig(\"setting2_N2.png\")\n",
    "plt.show()"
   ]
  },
  {
   "cell_type": "code",
   "execution_count": null,
   "id": "6a476734",
   "metadata": {},
   "outputs": [],
   "source": [
    "fig, ax = plt.subplots(subplot_kw={\"projection\": \"3d\"}, figsize=(8,8))\n",
    "\n",
    "n_ticks = 6\n",
    "xticks = np.linspace(ebm.X[0][0], ebm.X[0][1], n_ticks) \n",
    "yticks = np.linspace(ebm.X[1][0], ebm.X[1][1], n_ticks) \n",
    "\n",
    "X = np.array(ebm.Xj_ranges[0])\n",
    "Y = np.array(ebm.Xj_ranges[1])\n",
    "X, Y = np.meshgrid(X, Y)\n",
    "Z = (Q1+Q2).T\n",
    "\n",
    "# ax.plot_surface(X, Y, Z, color='grey') #cmap to make it easier to see ? \n",
    "\n",
    "surf = ax.plot_surface(X, Y, Z, cmap='viridis')\n",
    "\n",
    "ax.title.set_text(r\"$N=2$ (T=%s)\" % ebm.T)\n",
    "ax.title.set_size('x-large')\n",
    "\n",
    "ax.invert_xaxis()\n",
    "ax.set_xlabel(r\"$V_1$\", size='x-large',  labelpad=10)\n",
    "ax.set_xticks(xticks)\n",
    "ax.set_xticklabels(xticks, va='top') \n",
    "\n",
    "ax.set_ylabel(r\"$V_2$\", size='x-large',  labelpad=10)\n",
    "ax.set_yticks(yticks)\n",
    "ax.set_yticklabels(yticks, ha='left', va='bottom')\n",
    "\n",
    "ax.set_zlim(0, 1)\n",
    "ax.zaxis.set_rotate_label(False)\n",
    "ax.set_zlabel(r\"$Q_1 + Q_2$\", rotation=90, size='x-large', labelpad=10)\n",
    "ax.zaxis.set_major_formatter('{x:.01f}')\n",
    "\n",
    "# fig.colorbar(surf, shrink=0.5, aspect=5)\n",
    "\n",
    "plt.rcParams.update({'font.size': 16})\n",
    "\n",
    "plt.savefig(\"setting2_N2.png\")\n",
    "plt.show()"
   ]
  },
  {
   "cell_type": "code",
   "execution_count": 12,
   "id": "8d4662a8",
   "metadata": {},
   "outputs": [
    {
     "ename": "KeyboardInterrupt",
     "evalue": "",
     "output_type": "error",
     "traceback": [
      "\u001b[0;31m---------------------------------------------------------------------------\u001b[0m",
      "\u001b[0;31mKeyboardInterrupt\u001b[0m                         Traceback (most recent call last)",
      "Input \u001b[0;32mIn [12]\u001b[0m, in \u001b[0;36m<cell line: 1>\u001b[0;34m()\u001b[0m\n\u001b[1;32m      1\u001b[0m \u001b[38;5;28;01mfor\u001b[39;00m T \u001b[38;5;129;01min\u001b[39;00m \u001b[38;5;28mrange\u001b[39m(\u001b[38;5;241m99\u001b[39m,\u001b[38;5;241m101\u001b[39m):\n\u001b[0;32m----> 2\u001b[0m     ebm \u001b[38;5;241m=\u001b[39m \u001b[43mEBM\u001b[49m\u001b[43m(\u001b[49m\n\u001b[1;32m      3\u001b[0m \u001b[43m        \u001b[49m\u001b[43mN\u001b[49m\u001b[38;5;241;43m=\u001b[39;49m\u001b[38;5;241;43m2\u001b[39;49m\u001b[43m,\u001b[49m\n\u001b[1;32m      4\u001b[0m \u001b[43m        \u001b[49m\u001b[43mX\u001b[49m\u001b[38;5;241;43m=\u001b[39;49m\u001b[43m[\u001b[49m\u001b[43m[\u001b[49m\u001b[38;5;241;43m6\u001b[39;49m\u001b[43m,\u001b[49m\u001b[38;5;241;43m8\u001b[39;49m\u001b[43m]\u001b[49m\u001b[43m,\u001b[49m\u001b[43m[\u001b[49m\u001b[38;5;241;43m9\u001b[39;49m\u001b[43m,\u001b[49m\u001b[38;5;241;43m11\u001b[39;49m\u001b[43m]\u001b[49m\u001b[43m]\u001b[49m\u001b[43m,\u001b[49m\n\u001b[1;32m      5\u001b[0m \u001b[43m        \u001b[49m\u001b[43mc\u001b[49m\u001b[38;5;241;43m=\u001b[39;49m\u001b[43m[\u001b[49m\u001b[38;5;241;43m.9\u001b[39;49m\u001b[43m,\u001b[49m\u001b[38;5;241;43m5\u001b[39;49m\u001b[43m]\u001b[49m\u001b[43m,\u001b[49m\n\u001b[1;32m      6\u001b[0m \u001b[43m        \u001b[49m\u001b[43mT\u001b[49m\u001b[38;5;241;43m=\u001b[39;49m\u001b[43mT\u001b[49m\u001b[43m,\u001b[49m\n\u001b[1;32m      7\u001b[0m \u001b[43m        \u001b[49m\u001b[43mf\u001b[49m\u001b[38;5;241;43m=\u001b[39;49m\u001b[43mf\u001b[49m\u001b[43m)\u001b[49m\n\u001b[1;32m      8\u001b[0m     p1 \u001b[38;5;241m=\u001b[39m \u001b[38;5;28mmin\u001b[39m(ebm\u001b[38;5;241m.\u001b[39mXj_ranges[\u001b[38;5;241m0\u001b[39m][ebm\u001b[38;5;241m.\u001b[39mXj_ranges[\u001b[38;5;241m0\u001b[39m] \u001b[38;5;241m>\u001b[39m\u001b[38;5;241m=\u001b[39m \u001b[38;5;241m7.0\u001b[39m \u001b[38;5;241m-\u001b[39m \u001b[38;5;241m1e-10\u001b[39m])\n\u001b[1;32m      9\u001b[0m     p \u001b[38;5;241m=\u001b[39m (p1,\u001b[38;5;241m11\u001b[39m)\n",
      "File \u001b[0;32m~/github/phd/ch_auctions_simulations/ebm_code/ebm.py:31\u001b[0m, in \u001b[0;36mExclusiveBuyerMechanismApproximation.__init__\u001b[0;34m(self, N, X, c, T, f)\u001b[0m\n\u001b[1;32m     28\u001b[0m \u001b[38;5;28mself\u001b[39m\u001b[38;5;241m.\u001b[39mX_iter \u001b[38;5;241m=\u001b[39m \u001b[38;5;28mlist\u001b[39m(itertools\u001b[38;5;241m.\u001b[39mproduct(\u001b[38;5;241m*\u001b[39m\u001b[38;5;28mself\u001b[39m\u001b[38;5;241m.\u001b[39mXj_ranges))\n\u001b[1;32m     30\u001b[0m \u001b[38;5;28mself\u001b[39m\u001b[38;5;241m.\u001b[39mff \u001b[38;5;241m=\u001b[39m f\n\u001b[0;32m---> 31\u001b[0m \u001b[38;5;28mself\u001b[39m\u001b[38;5;241m.\u001b[39m_FNminus1 \u001b[38;5;241m=\u001b[39m \u001b[38;5;28;43mself\u001b[39;49m\u001b[38;5;241;43m.\u001b[39;49m\u001b[43m_precompute_FNminus1\u001b[49m\u001b[43m(\u001b[49m\u001b[43m)\u001b[49m\n\u001b[1;32m     32\u001b[0m \u001b[38;5;28mself\u001b[39m\u001b[38;5;241m.\u001b[39mtotal_mass \u001b[38;5;241m=\u001b[39m \u001b[38;5;28mself\u001b[39m\u001b[38;5;241m.\u001b[39m_FNminus1[\u001b[38;5;28mlen\u001b[39m(\u001b[38;5;28mself\u001b[39m\u001b[38;5;241m.\u001b[39mX_iter)\u001b[38;5;241m-\u001b[39m\u001b[38;5;241m1\u001b[39m]\n",
      "File \u001b[0;32m~/github/phd/ch_auctions_simulations/ebm_code/ebm.py:37\u001b[0m, in \u001b[0;36mExclusiveBuyerMechanismApproximation._precompute_FNminus1\u001b[0;34m(self)\u001b[0m\n\u001b[1;32m     35\u001b[0m FNMinus1 \u001b[38;5;241m=\u001b[39m \u001b[38;5;28mdict\u001b[39m()\n\u001b[1;32m     36\u001b[0m \u001b[38;5;28;01mfor\u001b[39;00m i, x \u001b[38;5;129;01min\u001b[39;00m \u001b[38;5;28menumerate\u001b[39m(\u001b[38;5;28mself\u001b[39m\u001b[38;5;241m.\u001b[39mX_iter):\n\u001b[0;32m---> 37\u001b[0m     FNMinus1[i] \u001b[38;5;241m=\u001b[39m \u001b[38;5;28;43mself\u001b[39;49m\u001b[38;5;241;43m.\u001b[39;49m\u001b[43m_FNminus1_raw\u001b[49m\u001b[43m(\u001b[49m\u001b[43mx\u001b[49m\u001b[43m)\u001b[49m\n\u001b[1;32m     38\u001b[0m \u001b[38;5;28;01mreturn\u001b[39;00m FNMinus1\n",
      "File \u001b[0;32m~/github/phd/ch_auctions_simulations/ebm_code/ebm.py:55\u001b[0m, in \u001b[0;36mExclusiveBuyerMechanismApproximation._FNminus1_raw\u001b[0;34m(self, x)\u001b[0m\n\u001b[1;32m     53\u001b[0m subset_mass \u001b[38;5;241m=\u001b[39m \u001b[38;5;241m0\u001b[39m\n\u001b[1;32m     54\u001b[0m \u001b[38;5;28;01mfor\u001b[39;00m i, x \u001b[38;5;129;01min\u001b[39;00m \u001b[38;5;28menumerate\u001b[39m(X_subset):\n\u001b[0;32m---> 55\u001b[0m     subset_mass \u001b[38;5;241m+\u001b[39m\u001b[38;5;241m=\u001b[39m \u001b[38;5;28mself\u001b[39m\u001b[38;5;241m.\u001b[39mff(x) \u001b[38;5;241m*\u001b[39m \u001b[43mnp\u001b[49m\u001b[38;5;241;43m.\u001b[39;49m\u001b[43mpower\u001b[49m\u001b[43m(\u001b[49m\u001b[38;5;28;43mself\u001b[39;49m\u001b[38;5;241;43m.\u001b[39;49m\u001b[43mdelta_1d\u001b[49m\u001b[43m,\u001b[49m\u001b[43m \u001b[49m\u001b[38;5;28;43mself\u001b[39;49m\u001b[38;5;241;43m.\u001b[39;49m\u001b[43mJ\u001b[49m\u001b[43m)\u001b[49m \u001b[38;5;241m*\u001b[39m \\\n\u001b[1;32m     56\u001b[0m         \u001b[38;5;28mself\u001b[39m\u001b[38;5;241m.\u001b[39mnumerical_adjustment(i)\n\u001b[1;32m     58\u001b[0m \u001b[38;5;28;01mreturn\u001b[39;00m np\u001b[38;5;241m.\u001b[39mpower(subset_mass, \u001b[38;5;28mself\u001b[39m\u001b[38;5;241m.\u001b[39mN \u001b[38;5;241m-\u001b[39m \u001b[38;5;241m1\u001b[39m)\n",
      "\u001b[0;31mKeyboardInterrupt\u001b[0m: "
     ]
    }
   ],
   "source": [
    "for T in range(99,101):\n",
    "    ebm = EBM(\n",
    "        N=2,\n",
    "        X=[[6,8],[9,11]],\n",
    "        c=[.9,5],\n",
    "        T=T,\n",
    "        f=f)\n",
    "    p1 = min(ebm.Xj_ranges[0][ebm.Xj_ranges[0] >= 7.0 - 1e-10])\n",
    "    p = (p1,11)\n",
    "    print(T, np.round(p,4), np.round(ebm.FNminus1(p),4))"
   ]
  },
  {
   "cell_type": "code",
   "execution_count": 26,
   "id": "a1bb0a8f",
   "metadata": {},
   "outputs": [
    {
     "name": "stdout",
     "output_type": "stream",
     "text": [
      "1 1 [ 6. 11.] 5.2125\n",
      "1 2 [ 6. 11.] 7.7625\n",
      "2 1 [ 6. 10.] 5.0812\n",
      "2 2 [ 6. 10.] 7.1906\n",
      "3 1 [ 6.     10.3333] 5.1194\n",
      "3 2 [ 6.     10.3333] 6.5865\n",
      "4 1 [ 6. 10.] 5.0859\n",
      "4 2 [ 6. 10.] 6.1667\n",
      "5 1 [ 6.  10.2] 5.109\n",
      "5 2 [ 6.  10.2] 6.0026\n",
      "6 1 [ 6. 10.] 5.0868\n",
      "6 2 [ 6. 10.] 5.8012\n",
      "7 1 [ 6.     10.1429] 5.1042\n",
      "7 2 [ 6.     10.1429] 5.7343\n",
      "8 1 [ 6. 10.] 5.0871\n",
      "8 2 [ 6. 10.] 5.6192\n",
      "9 1 [ 6.     10.1111] 5.1011\n",
      "9 2 [ 6.     10.1111] 5.5857\n",
      "10 1 [ 6. 10.] 5.0873\n",
      "10 2 [ 6. 10.] 5.5111\n",
      "11 1 [6.     9.9091] 5.0712\n",
      "11 2 [6.     9.9091] 5.4537\n",
      "12 1 [ 6. 10.] 5.0873\n",
      "12 2 [ 6. 10.] 5.4396\n",
      "13 1 [6.     9.9231] 5.0741\n",
      "13 2 [6.     9.9231] 5.4057\n",
      "14 1 [ 6. 10.] 5.0874\n",
      "14 2 [ 6. 10.] 5.3957\n",
      "15 1 [6.     9.9333] 5.0761\n",
      "15 2 [6.     9.9333] 5.3644\n",
      "16 1 [ 6. 10.] 5.0874\n",
      "16 2 [ 6. 10.] 5.3603\n",
      "17 1 [6.     9.9412] 5.0776\n",
      "17 2 [6.     9.9412] 5.3325\n",
      "18 1 [ 6. 10.] 5.0874\n",
      "18 2 [ 6. 10.] 5.33\n",
      "19 1 [6.     9.9474] 5.0788\n",
      "19 2 [6.     9.9474] 5.3071\n",
      "20 1 [6.  9.9] 5.0696\n",
      "20 2 [6.  9.9] 5.2854\n",
      "21 1 [6.     9.9524] 5.0797\n",
      "21 2 [6.     9.9524] 5.2865\n",
      "22 1 [6.     9.9091] 5.0715\n",
      "22 2 [6.     9.9091] 5.2682\n",
      "23 1 [6.     9.9565] 5.0804\n",
      "23 2 [6.     9.9565] 5.2694\n",
      "24 1 [6.     9.9167] 5.073\n",
      "24 2 [6.     9.9167] 5.2537\n",
      "25 1 [6.   9.96] 5.081\n",
      "25 2 [6.   9.96] 5.2551\n",
      "26 1 [6.     9.9231] 5.0743\n",
      "26 2 [6.     9.9231] 5.2431\n",
      "27 1 [6.    9.963] 5.0815\n",
      "27 2 [6.    9.963] 5.2434\n",
      "28 1 [6.     9.9286] 5.0753\n",
      "28 2 [6.     9.9286] 5.2331\n",
      "29 1 [6.     9.9655] 5.082\n",
      "29 2 [6.     9.9655] 5.234\n",
      "30 1 [6.     9.9333] 5.0762\n",
      "30 2 [6.     9.9333] 5.2239\n",
      "31 1 [6.     9.9032] 5.0704\n",
      "31 2 [6.     9.9032] 5.2145\n",
      "32 1 [6.     9.9375] 5.077\n",
      "32 2 [6.     9.9375] 5.2157\n",
      "33 1 [6.     9.9091] 5.0716\n",
      "33 2 [6.     9.9091] 5.2073\n",
      "34 1 [6.     9.9412] 5.0777\n",
      "34 2 [6.     9.9412] 5.2088\n",
      "35 1 [6.     9.9143] 5.0726\n",
      "35 2 [6.     9.9143] 5.2008\n",
      "36 1 [6.     9.9444] 5.0783\n",
      "36 2 [6.     9.9444] 5.2025\n",
      "37 1 [6.     9.9189] 5.0735\n",
      "37 2 [6.     9.9189] 5.195\n",
      "38 1 [6.     9.9474] 5.0788\n",
      "38 2 [6.     9.9474] 5.1967\n",
      "39 1 [6.     9.9231] 5.0743\n",
      "39 2 [6.     9.9231] 5.1901\n",
      "40 1 [6.  9.9] 5.0697\n",
      "40 2 [6.  9.9] 5.1839\n",
      "41 1 [6.     9.9268] 5.075\n",
      "41 2 [6.     9.9268] 5.1858\n",
      "42 1 [6.     9.9048] 5.0707\n",
      "42 2 [6.     9.9048] 5.1797\n",
      "43 1 [6.     9.9302] 5.0757\n",
      "43 2 [6.     9.9302] 5.1817\n",
      "44 1 [6.     9.9091] 5.0716\n",
      "44 2 [6.     9.9091] 5.1761\n",
      "45 1 [6.     9.9333] 5.0763\n",
      "45 2 [6.     9.9333] 5.1778\n",
      "46 1 [6.    9.913] 5.0724\n",
      "46 2 [6.    9.913] 5.1726\n",
      "47 1 [6.     9.9362] 5.0768\n",
      "47 2 [6.     9.9362] 5.1743\n",
      "48 1 [6.     9.9167] 5.0731\n",
      "48 2 [6.     9.9167] 5.1693\n",
      "49 1 [6.     9.9388] 5.0773\n",
      "49 2 [6.     9.9388] 5.171\n",
      "50 1 [6.   9.92] 5.0737\n",
      "50 2 [6.   9.92] 5.1663\n"
     ]
    }
   ],
   "source": [
    "N1vals = []\n",
    "N2vals = []\n",
    "for T in range(1,51):\n",
    "    for N in [1,2]:\n",
    "        ebm = EBM(\n",
    "            N=N,\n",
    "            X=[[6,8],[9,11]],\n",
    "            c=[.9,5],\n",
    "            T=T,\n",
    "            f=f)\n",
    "        p2 = min(ebm.Xj_ranges[1][ebm.Xj_ranges[1] >= 9.9 - 1e-10])\n",
    "        p = (6,p2)\n",
    "        r = np.round(ebm.obj(p)[0],4)\n",
    "        print(T,N, np.round(p,4), r)\n",
    "        if N == 1:\n",
    "            N1vals.append(r)\n",
    "        if N == 2:\n",
    "            N2vals.append(r)"
   ]
  },
  {
   "cell_type": "code",
   "execution_count": 28,
   "id": "53a129e9",
   "metadata": {},
   "outputs": [
    {
     "data": {
      "text/plain": [
       "Text(0, 0.5, 'price')"
      ]
     },
     "execution_count": 28,
     "metadata": {},
     "output_type": "execute_result"
    },
    {
     "data": {
      "image/png": "[encoded data removed]",
      "text/plain": [
       "<Figure size 432x288 with 1 Axes>"
      ]
     },
     "metadata": {
      "needs_background": "light"
     },
     "output_type": "display_data"
    }
   ],
   "source": [
    "Ts = list(range(1,51))\n",
    "ax = plt.plot(Ts, N1vals)\n",
    "ax = plt.plot(Ts, N2vals)\n",
    "\n",
    "plt.title(r\"Revenue of Exclusive Buyer Mechanism\")\n",
    "plt.xlabel(r\"$T$\")\n",
    "plt.ylabel(\"price\")"
   ]
  },
  {
   "cell_type": "code",
   "execution_count": 25,
   "id": "a4d2bc4e",
   "metadata": {},
   "outputs": [
    {
     "data": {
      "text/plain": [
       "[5.0737]"
      ]
     },
     "execution_count": 25,
     "metadata": {},
     "output_type": "execute_result"
    }
   ],
   "source": [
    "N1vals"
   ]
  },
  {
   "cell_type": "code",
   "execution_count": 50,
   "id": "cfa5efe7",
   "metadata": {},
   "outputs": [
    {
     "name": "stdout",
     "output_type": "stream",
     "text": [
      "[ 6.  10.2] 5.3262\n"
     ]
    }
   ],
   "source": [
    "ebm = EBM(\n",
    "    N=2,\n",
    "    X=[[6,8],[9,11]],\n",
    "    c=[.9,5],\n",
    "    T=20,\n",
    "    f=f)\n",
    "p1 = min(ebm.Xj_ranges[0][ebm.Xj_ranges[0] >= 6.0 - 1e-10])\n",
    "p2 = min(ebm.Xj_ranges[1][ebm.Xj_ranges[1] >= 10.15  - 1e-10])\n",
    "p = (p1,p2)\n",
    "r = np.round(ebm.obj(p)[0],4)\n",
    "print(np.round(p,4), r)"
   ]
  },
  {
   "cell_type": "code",
   "execution_count": null,
   "id": "c310af7c",
   "metadata": {},
   "outputs": [],
   "source": []
  }
 ],
 "metadata": {
  "kernelspec": {
   "display_name": "Python 3 (ipykernel)",
   "language": "python",
   "name": "python3"
  },
  "language_info": {
   "codemirror_mode": {
    "name": "ipython",
    "version": 3
   },
   "file_extension": ".py",
   "mimetype": "text/x-python",
   "name": "python",
   "nbconvert_exporter": "python",
   "pygments_lexer": "ipython3",
   "version": "3.8.13"
  }
 },
 "nbformat": 4,
 "nbformat_minor": 5
}
